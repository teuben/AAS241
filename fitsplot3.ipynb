{
 "cells": [
  {
   "cell_type": "code",
   "execution_count": null,
   "id": "bb278f6b",
   "metadata": {},
   "outputs": [],
   "source": [
    "import numpy as np\n",
    "import matplotlib.pyplot as plt\n",
    "from astropy.io import fits"
   ]
  },
  {
   "cell_type": "code",
   "execution_count": null,
   "id": "c9162d6f",
   "metadata": {},
   "outputs": [],
   "source": [
    "fitsfile = 'M100.mom0.fits'\n",
    "fitsfile = 'https://github.com/teuben/AAS241/raw/main/M100.mom0.fits'\n",
    "color = 'jet'\n",
    "size = 8"
   ]
  },
  {
   "cell_type": "code",
   "execution_count": null,
   "id": "260a9bb0",
   "metadata": {},
   "outputs": [],
   "source": [
    "hdu = fits.open(fitsfile)\n",
    "data = hdu[0].data"
   ]
  },
  {
   "cell_type": "code",
   "execution_count": null,
   "id": "b33cf894",
   "metadata": {},
   "outputs": [],
   "source": [
    "print(hdu[0].header)"
   ]
  },
  {
   "cell_type": "code",
   "execution_count": null,
   "id": "28587af8",
   "metadata": {},
   "outputs": [],
   "source": [
    "print(data.shape)"
   ]
  },
  {
   "cell_type": "code",
   "execution_count": null,
   "id": "854432c8",
   "metadata": {},
   "outputs": [],
   "source": [
    "plt.imshow(data, cmap=color)\n",
    "plt.colorbar()"
   ]
  },
  {
   "cell_type": "code",
   "execution_count": null,
   "id": "a27fe84e",
   "metadata": {},
   "outputs": [],
   "source": [
    "data2 = data.ravel()\n",
    "plt.hist(data2, bins=16,log=True);"
   ]
  },
  {
   "cell_type": "code",
   "execution_count": null,
   "id": "21bc9b1c",
   "metadata": {},
   "outputs": [],
   "source": [
    "fig, ax = plt.subplots(1,2)\n",
    "im = ax[0].imshow(data)\n",
    "plt.colorbar(im, ax=ax[0])\n",
    "data2 = data.ravel()\n",
    "ax[1].hist(data2, bins=16,log=True,orientation='horizontal');"
   ]
  },
  {
   "cell_type": "code",
   "execution_count": null,
   "id": "b5e93065",
   "metadata": {},
   "outputs": [],
   "source": [
    "box1 = [0.1,0.1,0.8,0.8]   # full size, image\n",
    "box2 = [0.1,0.1,0.5,0.5]   # left side, image\n",
    "box3 = [0.7,0.15,0.2,0.4]  # right side, histo\n"
   ]
  },
  {
   "cell_type": "code",
   "execution_count": null,
   "id": "3ea7e69e",
   "metadata": {},
   "outputs": [],
   "source": [
    "fig = plt.figure()\n",
    "ax2 = fig.add_axes(box2)\n",
    "ax3 = fig.add_axes(box3)\n",
    "\n",
    "im2 = ax2.imshow(data)\n",
    "plt.colorbar(im2,ax=ax2)\n",
    "\n",
    "data2 = data.ravel()\n",
    "ax3.hist(data2, bins=16,log=True,orientation='horizontal');"
   ]
  }
 ],
 "metadata": {
  "kernelspec": {
   "display_name": "Python 3 (ipykernel)",
   "language": "python",
   "name": "python3"
  },
  "language_info": {
   "codemirror_mode": {
    "name": "ipython",
    "version": 3
   },
   "file_extension": ".py",
   "mimetype": "text/x-python",
   "name": "python",
   "nbconvert_exporter": "python",
   "pygments_lexer": "ipython3",
   "version": "3.9.7"
  }
 },
 "nbformat": 4,
 "nbformat_minor": 5
}
